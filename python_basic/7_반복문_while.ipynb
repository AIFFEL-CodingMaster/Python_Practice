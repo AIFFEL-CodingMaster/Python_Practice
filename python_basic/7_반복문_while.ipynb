{
 "cells": [
  {
   "cell_type": "markdown",
   "metadata": {},
   "source": [
    "# 반복문\n",
    "\n",
    "- 말 그대로 코드를 반복하는 것\n",
    "  - while : ~하는 동안\n",
    "  * while : 조건을 만족하면 반복문 실행, 조건이 만족하는 동안 -> 조건이 만족하지 않으면 반복하지 않겠다\n",
    "    - 조건을 걸어주는 것은 if 조건문과 방법이 같다\n",
    "    - 끝부분에 \"**:**\" 그리고 다음 줄은 4칸 띄우고\n",
    "\n",
    "```python\n",
    "while A == 0:\n",
    "    print(123)\n",
    "```\n"
   ]
  },
  {
   "cell_type": "code",
   "execution_count": 1,
   "metadata": {},
   "outputs": [
    {
     "name": "stdout",
     "output_type": "stream",
     "text": [
      "9\n",
      "8\n",
      "7\n",
      "6\n",
      "5\n",
      "4\n",
      "3\n",
      "2\n",
      "[1]\n"
     ]
    }
   ],
   "source": [
    "# while\n",
    "list_1 = [1,2,3,4,5,6,7,8,9]\n",
    "\n",
    "# list_1의 길이가 1보다 크면 반복문 계속 실행\n",
    "while len(list_1) > 1: # [1,2,3,4,5,6,7,8,9] 길이가 9\n",
    "    # list_1.pop() : 리스트의 맨 마지막 원소를 pop 뽑아냄\n",
    "    print(list_1.pop())\n",
    "    '''\n",
    "    뒤에서부터 list_1의 길이가 1이 될 때까지 뽑아내기 때문에 list_1 안에 맨 앞의 원소인 1만 남을때까지 \n",
    "    반복문을 실행한다\n",
    "    왜?\n",
    "    조건에 길이가 1보다 클때라고 정의해줬기 때문에\n",
    "    '''\n",
    "# 남아 있는 list_1을 확인해보면 맨 앞의 원소 1만 남아있음\n",
    "print(list_1)"
   ]
  },
  {
   "cell_type": "code",
   "execution_count": null,
   "metadata": {},
   "outputs": [],
   "source": [
    "# 주의 할점\n",
    "# while 반복문을 돌면서 조건을 만족하지 않도록 만들지 않는다면 무한 루프에 빠짐\n",
    "n = 10\n",
    "while n > 0:\n",
    "    # 실행하면 무한 루프에 빠집니다. \n",
    "    print(\"끝나지 않는 무한 루프\")"
   ]
  },
  {
   "cell_type": "code",
   "execution_count": 2,
   "metadata": {},
   "outputs": [
    {
     "name": "stdout",
     "output_type": "stream",
     "text": [
      "곧 끝나는 루프\n",
      "곧 끝나는 루프\n",
      "곧 끝나는 루프\n",
      "곧 끝나는 루프\n",
      "곧 끝나는 루프\n",
      "곧 끝나는 루프\n",
      "곧 끝나는 루프\n",
      "곧 끝나는 루프\n",
      "곧 끝나는 루프\n",
      "곧 끝나는 루프\n"
     ]
    }
   ],
   "source": [
    "n = 10\n",
    "while n > 0:\n",
    "    print(\"곧 끝나는 루프\")\n",
    "    # 반복문이 한 바퀴 돌 때마다 n을 1씩 감소시켜주면 언젠가 0보다 크지 않은 순간이 오고 반복문이 끝남\n",
    "    n = n - 1"
   ]
  },
  {
   "cell_type": "code",
   "execution_count": 3,
   "metadata": {},
   "outputs": [
    {
     "name": "stdout",
     "output_type": "stream",
     "text": [
      "강제로 끝내는 방법 바로 'break'\n"
     ]
    }
   ],
   "source": [
    "# while문을 강제로 끝내는 법\n",
    "n = 10\n",
    "while n > 0:\n",
    "    print(\"강제로 끝내는 방법 바로 'break'\")\n",
    "    break"
   ]
  },
  {
   "cell_type": "code",
   "execution_count": 4,
   "metadata": {},
   "outputs": [
    {
     "name": "stdout",
     "output_type": "stream",
     "text": [
      "n :  10\n",
      "n :  9\n",
      "n :  8\n",
      "n :  7\n",
      "n :  6\n"
     ]
    }
   ],
   "source": [
    "# 조건문을 사용하여 조건을 만족하면 강제로 끝내기\n",
    "n = 10 \n",
    "while n > 0:\n",
    "    print(\"n : \", n)\n",
    "    n = n - 1\n",
    "    # n이 5가 되는 순간 반복문 종료\n",
    "    if n == 5:\n",
    "        break"
   ]
  },
  {
   "cell_type": "code",
   "execution_count": null,
   "metadata": {},
   "outputs": [],
   "source": []
  },
  {
   "cell_type": "code",
   "execution_count": 5,
   "metadata": {},
   "outputs": [],
   "source": [
    "# Hello World를 입력 받으면 종료되는 반복문 만들기\n",
    "sentense = \"\"\n",
    "# 조건을 뭐라고 주어야 할까?\n",
    "while  :\n",
    "    # input으로 입력 받기\n",
    "    print(\"Hello World가 아니면 멈추지 않음\")\n",
    "    sentense = input()\n",
    "    print(\"sentense : \", sentense)"
   ]
  }
 ],
 "metadata": {
  "kernelspec": {
   "display_name": "Python 3",
   "language": "python",
   "name": "python3"
  },
  "language_info": {
   "codemirror_mode": {
    "name": "ipython",
    "version": 3
   },
   "file_extension": ".py",
   "mimetype": "text/x-python",
   "name": "python",
   "nbconvert_exporter": "python",
   "pygments_lexer": "ipython3",
   "version": "3.7.3"
  }
 },
 "nbformat": 4,
 "nbformat_minor": 2
}
