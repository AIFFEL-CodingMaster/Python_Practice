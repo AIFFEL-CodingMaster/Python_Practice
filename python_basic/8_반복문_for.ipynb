{
 "cells": [
  {
   "cell_type": "markdown",
   "metadata": {},
   "source": [
    "# 반복문\n",
    "* 말 그대로 코드를 반복하는 것\n",
    "    * for : 반복가능한 데이터의 길이만큼 반복 - \"iterable\" 하다\n",
    "    * 코드로 보시죠"
   ]
  },
  {
   "cell_type": "code",
   "execution_count": 8,
   "metadata": {},
   "outputs": [],
   "source": [
    "# 반복 가능한 것들 example\n",
    "list_1 = [1,2,3,4,5]\n",
    "tuple_2 = (1,2,3,4,5)\n",
    "set_1 = {1,2,3,4,5}\n",
    "dict_1 = {'1' : 1, '2' : 2, '3' : 3}\n",
    "string = \"abcd\"\n",
    "range_ = range(10) # 0~9까지 정수를 담고 있음"
   ]
  },
  {
   "cell_type": "markdown",
   "metadata": {},
   "source": [
    "# for문 코드 형태\n",
    "```python\n",
    "for i in list_1:\n",
    "    print(i)\n",
    "```\n",
    "* for문을 시작하면?\n",
    "1. list_1에서 맨 앞에 있는 원소를 꺼낸다\n",
    "2. i라는 변수에 list_1에서 꺼낸 원소를 넣어준다\n",
    "```python\n",
    "# 이런 액션과 같은 것, 이런 느낌이지 정확히 이 행위인 건 아닙니다. 오해 ㄴㄴ \n",
    "i = list_1[0]\n",
    "```\n",
    "3. 그리고 아래의 코드를 실행한다 \n",
    "        \n",
    "추가: i라고 썼지만 변수이름은 아무거나 써도 작동은 된다"
   ]
  },
  {
   "cell_type": "code",
   "execution_count": 9,
   "metadata": {},
   "outputs": [
    {
     "name": "stdout",
     "output_type": "stream",
     "text": [
      "1\n",
      "2\n",
      "3\n",
      "4\n",
      "5\n"
     ]
    }
   ],
   "source": [
    "# example test\n",
    "for i in list_1:\n",
    "    print(i)"
   ]
  },
  {
   "cell_type": "code",
   "execution_count": 10,
   "metadata": {},
   "outputs": [
    {
     "name": "stdout",
     "output_type": "stream",
     "text": [
      "1\n",
      "2\n",
      "3\n",
      "4\n",
      "5\n"
     ]
    }
   ],
   "source": [
    "for i in tuple_2:\n",
    "    print(i)"
   ]
  },
  {
   "cell_type": "code",
   "execution_count": 11,
   "metadata": {},
   "outputs": [
    {
     "name": "stdout",
     "output_type": "stream",
     "text": [
      "1\n",
      "2\n",
      "3\n",
      "4\n",
      "5\n"
     ]
    }
   ],
   "source": [
    "for i in set_1:\n",
    "    print(i)"
   ]
  },
  {
   "cell_type": "code",
   "execution_count": 12,
   "metadata": {},
   "outputs": [
    {
     "name": "stdout",
     "output_type": "stream",
     "text": [
      "1\n",
      "2\n",
      "3\n"
     ]
    }
   ],
   "source": [
    "for i in dict_1:\n",
    "    print(i)"
   ]
  },
  {
   "cell_type": "code",
   "execution_count": 13,
   "metadata": {},
   "outputs": [
    {
     "name": "stdout",
     "output_type": "stream",
     "text": [
      "a\n",
      "b\n",
      "c\n",
      "d\n"
     ]
    }
   ],
   "source": [
    "for i in string:\n",
    "    print(i)"
   ]
  },
  {
   "cell_type": "code",
   "execution_count": 14,
   "metadata": {},
   "outputs": [
    {
     "name": "stdout",
     "output_type": "stream",
     "text": [
      "0\n",
      "1\n",
      "2\n",
      "3\n",
      "4\n",
      "5\n",
      "6\n",
      "7\n",
      "8\n",
      "9\n"
     ]
    }
   ],
   "source": [
    "for i in range_:\n",
    "    print(i)"
   ]
  },
  {
   "cell_type": "code",
   "execution_count": 19,
   "metadata": {},
   "outputs": [
    {
     "name": "stdout",
     "output_type": "stream",
     "text": [
      "i 는 순서 0\n",
      "j 는 데이터 1\n",
      "i 는 순서 1\n",
      "j 는 데이터 2\n",
      "i 는 순서 2\n",
      "j 는 데이터 3\n",
      "i 는 순서 3\n",
      "j 는 데이터 4\n",
      "i 는 순서 4\n",
      "j 는 데이터 5\n"
     ]
    }
   ],
   "source": [
    "# 반복 순서(index)와 함께 반복하기 - 다시 한 번 강조 python은 순서를 셀 때 0부터 시작\n",
    "# enumerate(), 앞 쪽에 순서가 같이 출력된다\n",
    "for i, j in enumerate(list_1):\n",
    "    print(f\"i 는 순서 {i}\")\n",
    "    print(f\"j 는 데이터 {j}\")"
   ]
  },
  {
   "cell_type": "code",
   "execution_count": 18,
   "metadata": {},
   "outputs": [
    {
     "data": {
      "text/plain": [
       "function"
      ]
     },
     "execution_count": 18,
     "metadata": {},
     "output_type": "execute_result"
    }
   ],
   "source": []
  },
  {
   "cell_type": "code",
   "execution_count": null,
   "metadata": {},
   "outputs": [],
   "source": []
  }
 ],
 "metadata": {
  "kernelspec": {
   "display_name": "Python 3",
   "language": "python",
   "name": "python3"
  },
  "language_info": {
   "codemirror_mode": {
    "name": "ipython",
    "version": 3
   },
   "file_extension": ".py",
   "mimetype": "text/x-python",
   "name": "python",
   "nbconvert_exporter": "python",
   "pygments_lexer": "ipython3",
   "version": "3.7.3"
  }
 },
 "nbformat": 4,
 "nbformat_minor": 2
}
