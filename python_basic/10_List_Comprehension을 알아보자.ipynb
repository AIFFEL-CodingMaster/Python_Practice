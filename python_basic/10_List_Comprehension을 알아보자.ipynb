{
 "cells": [
  {
   "cell_type": "markdown",
   "metadata": {},
   "source": [
    "# for + list\n",
    "\n",
    "---\n",
    "\n",
    "## list comprehension\n",
    "\n",
    "- list 안에 for문\n",
    "\n",
    "```python\n",
    "# somethings 안에서 하나씩 꺼내서 리스트 안에 넣자\n",
    "_list = [i for i in somethings]\n",
    "```\n"
   ]
  },
  {
   "cell_type": "code",
   "execution_count": 4,
   "metadata": {},
   "outputs": [
    {
     "name": "stdout",
     "output_type": "stream",
     "text": [
      "[1, 2, 3, 4, 5, 6, 7, 8, 9, 10, 11, 12, 13, 14, 15, 16, 17, 18, 19, 20, 21, 22, 23, 24, 25, 26, 27, 28, 29, 30, 31, 32, 33, 34, 35, 36, 37, 38, 39, 40, 41, 42, 43, 44, 45, 46, 47, 48, 49, 50, 51, 52, 53, 54, 55, 56, 57, 58, 59, 60, 61, 62, 63, 64, 65, 66, 67, 68, 69, 70, 71, 72, 73, 74, 75, 76, 77, 78, 79, 80, 81, 82, 83, 84, 85, 86, 87, 88, 89, 90, 91, 92, 93, 94, 95, 96, 97, 98, 99, 100]\n"
     ]
    }
   ],
   "source": [
    "# 활용\n",
    "# 1 부터 100까지 원소를 가지는 리스트 생성\n",
    "one_to_hundred = [ \n",
    "    i \n",
    "    for i in range(1,101)\n",
    "    ]\n",
    "print(one_to_hundred)"
   ]
  },
  {
   "cell_type": "code",
   "execution_count": 2,
   "metadata": {},
   "outputs": [
    {
     "name": "stdout",
     "output_type": "stream",
     "text": [
      "[100, 99, 98, 97, 96, 95, 94, 93, 92, 91, 90, 89, 88, 87, 86, 85, 84, 83, 82, 81, 80, 79, 78, 77, 76, 75, 74, 73, 72, 71, 70, 69, 68, 67, 66, 65, 64, 63, 62, 61, 60, 59, 58, 57, 56, 55, 54, 53, 52, 51, 50, 49, 48, 47, 46, 45, 44, 43, 42, 41, 40, 39, 38, 37, 36, 35, 34, 33, 32, 31, 30, 29, 28, 27, 26, 25, 24, 23, 22, 21, 20, 19, 18, 17, 16, 15, 14, 13, 12, 11, 10, 9, 8, 7, 6, 5, 4, 3, 2, 1]\n"
     ]
    }
   ],
   "source": [
    "# 거꾸로 100 부터 1까지\n",
    "hundred_to_one = [ i for i in range(100,0,-1)]\n",
    "print(hundred_to_one)"
   ]
  },
  {
   "cell_type": "code",
   "execution_count": 5,
   "metadata": {},
   "outputs": [
    {
     "name": "stdout",
     "output_type": "stream",
     "text": [
      "[2, 4, 6, 8, 10, 12, 14, 16, 18, 20, 22, 24, 26, 28, 30, 32, 34, 36, 38, 40, 42, 44, 46, 48, 50, 52, 54, 56, 58, 60, 62, 64, 66, 68, 70, 72, 74, 76, 78, 80, 82, 84, 86, 88, 90, 92, 94, 96, 98, 100]\n"
     ]
    }
   ],
   "source": [
    "# 1부터 100까지 중에 짝수만\n",
    "짝수만 = [ \n",
    "    i \n",
    "    for i in one_to_hundred  \n",
    "    if i % 2 == 0 # else가 없으면 if문을 뒤에 쓴다.\n",
    "] # 필터링\n",
    "print(짝수만)"
   ]
  },
  {
   "cell_type": "code",
   "execution_count": 6,
   "metadata": {},
   "outputs": [
    {
     "name": "stdout",
     "output_type": "stream",
     "text": [
      "['x', 2, 'x', 4, 'x', 6, 'x', 8, 'x', 10, 'x', 12, 'x', 14, 'x', 16, 'x', 18, 'x', 20, 'x', 22, 'x', 24, 'x', 26, 'x', 28, 'x', 30, 'x', 32, 'x', 34, 'x', 36, 'x', 38, 'x', 40, 'x', 42, 'x', 44, 'x', 46, 'x', 48, 'x', 50, 'x', 52, 'x', 54, 'x', 56, 'x', 58, 'x', 60, 'x', 62, 'x', 64, 'x', 66, 'x', 68, 'x', 70, 'x', 72, 'x', 74, 'x', 76, 'x', 78, 'x', 80, 'x', 82, 'x', 84, 'x', 86, 'x', 88, 'x', 90, 'x', 92, 'x', 94, 'x', 96, 'x', 98, 'x', 100]\n"
     ]
    }
   ],
   "source": [
    "# 짝수가 아니면 \"x\"\n",
    "짝수가아니면_x= [ \n",
    "    i \n",
    "    if i % 2 ==0 # else가 있으면 if문을 앞에 쓴다.\n",
    "    else \"x\" \n",
    "    for i in one_to_hundred   \n",
    "]\n",
    "\n",
    "print(짝수가아니면_x)"
   ]
  },
  {
   "cell_type": "markdown",
   "metadata": {},
   "source": [
    "- 위에서 보면 if 혼자만 쓸 때는 오른쪽, if else 같이 쓰면 왼쪽인 것을 알 수 있습니당\n"
   ]
  },
  {
   "cell_type": "code",
   "execution_count": 14,
   "metadata": {},
   "outputs": [
    {
     "name": "stdout",
     "output_type": "stream",
     "text": [
      "[(0, 0), (0, 1), (0, 2), (0, 3), (0, 4), (1, 0), (1, 1), (1, 2), (1, 3), (1, 4), (2, 0), (2, 1), (2, 2), (2, 3), (2, 4), (3, 0), (3, 1), (3, 2), (3, 3), (3, 4), (4, 0), (4, 1), (4, 2), (4, 3), (4, 4)]\n"
     ]
    }
   ],
   "source": [
    "# 리스트 안에 for문의 for문\n",
    "for_and_for = [ (i,j) for i in range(5) for j in range(5) ]\n",
    "print(for_and_for)"
   ]
  },
  {
   "cell_type": "code",
   "execution_count": 16,
   "metadata": {},
   "outputs": [
    {
     "name": "stdout",
     "output_type": "stream",
     "text": [
      "[(0, 0, 0), (0, 0, 1), (0, 0, 2), (0, 1, 0), (0, 1, 1), (0, 1, 2), (0, 2, 0), (0, 2, 1), (0, 2, 2), (1, 0, 0), (1, 0, 1), (1, 0, 2), (1, 1, 0), (1, 1, 1), (1, 1, 2), (1, 2, 0), (1, 2, 1), (1, 2, 2), (2, 0, 0), (2, 0, 1), (2, 0, 2), (2, 1, 0), (2, 1, 1), (2, 1, 2), (2, 2, 0), (2, 2, 1), (2, 2, 2)]\n"
     ]
    }
   ],
   "source": [
    "# 그렇다면 for문의 for문의 for문은?\n",
    "for_and_for_and_for = [ (i,j,k) for i in range(3) for j in range(3) for k in range(3)]\n",
    "print(for_and_for_and_for)"
   ]
  },
  {
   "cell_type": "code",
   "execution_count": 18,
   "metadata": {},
   "outputs": [
    {
     "name": "stdout",
     "output_type": "stream",
     "text": [
      "[(1, 1, 1), (1, 1, 2), (1, 2, 1), (1, 2, 2), (2, 1, 1), (2, 1, 2), (2, 2, 1), (2, 2, 2)]\n"
     ]
    }
   ],
   "source": [
    "# 그렇다면 for문의 for문의 for문의 조건을 달면?\n",
    "for_and_for_and_for_if = [ (i,j,k) for i in range(3) for j in range(3) for k in range(3) if i != 0 and j !=0 and k != 0]\n",
    "print(for_and_for_and_for_if)"
   ]
  },
  {
   "cell_type": "markdown",
   "metadata": {},
   "source": [
    "## Q : 혹시 다른 sequential DataType에는 안될까요?\n",
    "\n",
    "## A : 네니오\n"
   ]
  },
  {
   "cell_type": "code",
   "execution_count": 19,
   "metadata": {},
   "outputs": [
    {
     "name": "stdout",
     "output_type": "stream",
     "text": [
      "<generator object <genexpr> at 0x00000194A6B1CB88>\n"
     ]
    }
   ],
   "source": [
    "# tuple \n",
    "_tuple = ( i for i in range(10) )\n",
    "print(_tuple)"
   ]
  },
  {
   "cell_type": "markdown",
   "metadata": {},
   "source": [
    "## ????????? generator? => 나중에\n"
   ]
  },
  {
   "cell_type": "code",
   "execution_count": 3,
   "metadata": {},
   "outputs": [
    {
     "name": "stdout",
     "output_type": "stream",
     "text": [
      "(0, 1, 2, 3, 4, 5, 6, 7, 8, 9)\n"
     ]
    }
   ],
   "source": [
    "# tuple \n",
    "_tuple =tuple(( i for i in range(10)))\n",
    "print(_tuple)"
   ]
  },
  {
   "cell_type": "code",
   "execution_count": 20,
   "metadata": {},
   "outputs": [
    {
     "name": "stdout",
     "output_type": "stream",
     "text": [
      "{0, 1, 2, 3, 4, 5, 6, 7, 8, 9}\n"
     ]
    }
   ],
   "source": [
    "# set\n",
    "_set = { i for i in range(10) }\n",
    "print(_set)"
   ]
  },
  {
   "cell_type": "code",
   "execution_count": 23,
   "metadata": {},
   "outputs": [
    {
     "name": "stdout",
     "output_type": "stream",
     "text": [
      "{0: 0, 1: 1, 2: 2, 3: 3, 4: 4, 5: 5, 6: 6, 7: 7, 8: 8, 9: 9}\n"
     ]
    }
   ],
   "source": [
    "# dict\n",
    "_dict = { i:j for i,j in enumerate(range(10)) }\n",
    "print(_dict)"
   ]
  },
  {
   "cell_type": "markdown",
   "metadata": {},
   "source": [
    "### map 과 list comprehension 비교\n",
    "\n",
    "- map과 list comprehension이 기능이 비슷\n",
    "- 둘 다 반복문을 더 간결하게 사용할 수 있게 해줌\n",
    "- 저는 comprehension을 더 선호\n",
    "- comprehension은 필터링도 if, else를 사용하여 가능\n",
    "- map에서 필터링은 안되고 filter함수를 써야하는데 바꾸기 귀찮\n"
   ]
  },
  {
   "cell_type": "code",
   "execution_count": 1,
   "metadata": {},
   "outputs": [],
   "source": [
    "# map\n",
    "celsius_temperatures = [ 0, 10, 20, 30, 40 ]\n",
    "\n",
    "def convert_celsius_to_fahrenheit(celsius):\n",
    "    return (celsius * 9/5) + 32\n",
    "\n",
    "fahrenheit_temperatures = list(map(convert_celsius_to_fahrenheit, celsius_temperatures))"
   ]
  },
  {
   "cell_type": "code",
   "execution_count": 2,
   "metadata": {},
   "outputs": [],
   "source": [
    "fahrenheit_temperatures = [ convert_celsius_to_fahrenheit(celsius) for celsius in celsius_temperatures ]"
   ]
  },
  {
   "cell_type": "code",
   "execution_count": null,
   "metadata": {},
   "outputs": [],
   "source": []
  }
 ],
 "metadata": {
  "kernelspec": {
   "display_name": "Python 3",
   "language": "python",
   "name": "python3"
  },
  "language_info": {
   "codemirror_mode": {
    "name": "ipython",
    "version": 3
   },
   "file_extension": ".py",
   "mimetype": "text/x-python",
   "name": "python",
   "nbconvert_exporter": "python",
   "pygments_lexer": "ipython3",
   "version": "3.12.4"
  }
 },
 "nbformat": 4,
 "nbformat_minor": 2
}
