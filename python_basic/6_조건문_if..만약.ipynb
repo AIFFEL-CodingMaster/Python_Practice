{
 "cells": [
  {
   "cell_type": "markdown",
   "metadata": {},
   "source": [
    "# 조건문\n",
    "* 조건을 만족하면 실행함\n",
    "    * if : 만약 ~ 라면 실행\n",
    "    * elif : if가 아니고 elif 만약 ~라면 실행\n",
    "    * else : 앞에 언급한 조건이 아니면 else 실행\n",
    "* if 조건 끝에 **:** 붙여서 끝부분임을 표시해줘야함\n",
    "* 그리고 그 다음 코드는 4칸을 띄우고 작성한다 -> indentation이라고 부름\n",
    "```python\n",
    "if a == True: # 이렇게 끝에 : 표시 해주고\n",
    "    # 이렇게 4칸 띄우고\n",
    "    a = a + 1\n",
    "```"
   ]
  },
  {
   "cell_type": "code",
   "execution_count": 2,
   "metadata": {},
   "outputs": [
    {
     "name": "stdout",
     "output_type": "stream",
     "text": [
      "55\n",
      "100보다 작음\n"
     ]
    }
   ],
   "source": [
    "# 조건문을 만들어보자\n",
    "list_1 = [1,2,3,4,5,6,7,8,9,10]\n",
    "\n",
    "# 만약 list_1의 합이 100보다 작으면 print 실행\n",
    "if sum(list_1) < 100:\n",
    "    print(sum(list_1))\n",
    "    print(\"100보다 작음\")"
   ]
  },
  {
   "cell_type": "code",
   "execution_count": 3,
   "metadata": {},
   "outputs": [],
   "source": [
    "# 만약 조건이 맞지 않으면?\n",
    "if sum(list_1) > 100:\n",
    "    print(\"list_1의 합은 55인데 100보다 크다라는 조건이 틀려서 어짜피 이 print는 실행 안됨\")"
   ]
  },
  {
   "cell_type": "code",
   "execution_count": 4,
   "metadata": {},
   "outputs": [
    {
     "name": "stdout",
     "output_type": "stream",
     "text": [
      "위에 쓴 두 조건이 틀렸기 때문에 이게 실행 되겠죠\n"
     ]
    }
   ],
   "source": [
    "# 여러가지 조건을 걸고 싶다\n",
    "# 조건은 위에서부터 차례대로 검증\n",
    "if sum(list_1) > 100:\n",
    "    print(\"list_1의 합은 55인데 100보다 크다라는 조건이 틀려서 어짜피 이 print는 실행 안됨\")\n",
    "elif sum(list_1) >70:\n",
    "    print(\"이것도 어짜피 실행 안됨, 55는 70보다 작기 때문\")\n",
    "else:\n",
    "    print(\"위에 쓴 두 조건이 틀렸기 때문에 이게 실행 되겠죠\")"
   ]
  },
  {
   "cell_type": "code",
   "execution_count": 10,
   "metadata": {},
   "outputs": [
    {
     "data": {
      "text/plain": [
       "1"
      ]
     },
     "execution_count": 10,
     "metadata": {},
     "output_type": "execute_result"
    }
   ],
   "source": [
    "# 함수 내부에서 사용할 때, 조건이 맞으면 return을 통해 함수를 종료시킬 수 있습니다.\n",
    "# 이럴 때 굳이 else를 쓰지 않는 패턴도 많이 사용합니다.\n",
    "\n",
    "def temp():\n",
    "    import random\n",
    "    condition_1 = random.randint(0,1)\n",
    "    if condition_1:\n",
    "        return 1\n",
    "    return 0\n",
    "\n",
    "temp()"
   ]
  },
  {
   "cell_type": "code",
   "execution_count": 5,
   "metadata": {},
   "outputs": [
    {
     "name": "stdout",
     "output_type": "stream",
     "text": [
      "[1, 2, 3, 4, 5, 6, 7, 8, 9, 10, 11]\n"
     ]
    }
   ],
   "source": [
    "# if도 맞고 elif도 맞다면?\n",
    "if list_1[0] ==1:\n",
    "    list_1.append(11)\n",
    "    print(list_1)\n",
    "elif list_1[1] > 0:\n",
    "    print(\"이것이 실행이 될까요?\")"
   ]
  },
  {
   "cell_type": "markdown",
   "metadata": {},
   "source": [
    "### 조건이 둘 다 맞을 때 처음 맞은 if문만 실행되는 이유\n",
    "* if 조건문은 위에서부터 아래로 내려오면서 실행이 되고 조건을 만족하는 순간 아래의 코드를 실행하고\n",
    "* 다음 elif 조건문을 실행하지 않고 끝이나서 안됩니다"
   ]
  },
  {
   "cell_type": "code",
   "execution_count": 15,
   "metadata": {},
   "outputs": [
    {
     "name": "stdout",
     "output_type": "stream",
     "text": [
      "list_2는 존재하니까 실행\n"
     ]
    }
   ],
   "source": [
    "# 여러가지 조건을 만드는 법\n",
    "list_2 = [\"A\",\"B\",\"C\"]\n",
    "# list_2가 존재하면 조건문 실행\n",
    "if list_2:\n",
    "    print(\"list_2는 존재하니까 실행\")\n",
    "elif \"A\" in list_2:\n",
    "    print(\"A가 list_2에 있으니까 실행\")"
   ]
  },
  {
   "cell_type": "code",
   "execution_count": 7,
   "metadata": {},
   "outputs": [
    {
     "name": "stdout",
     "output_type": "stream",
     "text": [
      "list_2는 None이 아니니까 실행\n"
     ]
    }
   ],
   "source": [
    "# list_2가 None이 아니면 조건문 실행\n",
    "if list_2 is not None:\n",
    "    print(\"list_2는 None이 아니니까 실행\")"
   ]
  },
  {
   "cell_type": "markdown",
   "metadata": {},
   "source": [
    "### 3항 연산\n",
    "- True일 때 값 if 조건 else False일 때 값"
   ]
  },
  {
   "cell_type": "code",
   "execution_count": 7,
   "metadata": {},
   "outputs": [],
   "source": [
    "DEBUG = True\n",
    "DEV_DB_URL = \"localhost\"\n",
    "PROD_DB_URL = \"prod_db_url\"\n",
    "\n",
    "DB_URL = DEV_DB_URL if DEBUG else PROD_DB_URL"
   ]
  },
  {
   "cell_type": "markdown",
   "metadata": {},
   "source": [
    "### 중첩 조건문"
   ]
  },
  {
   "cell_type": "code",
   "execution_count": 11,
   "metadata": {},
   "outputs": [
    {
     "name": "stdout",
     "output_type": "stream",
     "text": [
      "영화시청\n",
      "실무에서 이러면 혼나요\n",
      "영화시청\n"
     ]
    }
   ],
   "source": [
    "movie = {\n",
    "    '영화': '레미제라블',\n",
    "    '장르': '드라마',\n",
    "    '서비스': '디즈니',\n",
    "    '비용': 15000,\n",
    "    '평점': 4.9\n",
    "}\n",
    "\n",
    "if movie['장르'] == '드라마':\n",
    "    if movie['서비스'] == '디즈니' or movie['서비스'] == '넷플릭스':\n",
    "        if movie['평점'] >= 4.5:\n",
    "            if movie['비용'] <= 20000:\n",
    "                print('영화시청') # 출력: 영화시청\n",
    "\n",
    "\n",
    "\n",
    "print(\"if가 4개 중첩이라니 실무에서 이러면 혼나요\")\n",
    "\n",
    "\n",
    "\n",
    "\n",
    "\n",
    "\n",
    "\n",
    "if all([\n",
    "    movie['장르'] == '드라마',\n",
    "    movie['서비스'] in ['디즈니', '넷플릭스'],\n",
    "    movie['평점'] >= 4.5,\n",
    "    movie['비용'] <= 20000\n",
    "]):\n",
    "    print('영화시청')  # 출력: 영화시청\n"
   ]
  },
  {
   "cell_type": "markdown",
   "metadata": {},
   "source": [
    "### 실수가 종종 나오는 구문\n",
    "- 표현식 연결\n",
    "- 조건문을 한 개만 씀"
   ]
  },
  {
   "cell_type": "code",
   "execution_count": 4,
   "metadata": {},
   "outputs": [
    {
     "name": "stdout",
     "output_type": "stream",
     "text": [
      "3\n"
     ]
    }
   ],
   "source": [
    "# 표현식 연결\n",
    "import random\n",
    "\n",
    "\n",
    "variable = random.randint(1, 3)\n",
    "\n",
    "# variable이 1이나 2면 print 실행?\n",
    "if variable == 1 or 2: # variable이 3인데 왜 출력이 될까요?\n",
    "    print(variable) "
   ]
  },
  {
   "cell_type": "code",
   "execution_count": 6,
   "metadata": {},
   "outputs": [
    {
     "name": "stdout",
     "output_type": "stream",
     "text": [
      "list_2안에 A 가 있으니까 실행\n",
      "list_2는 A B C 밖에 없죠\n"
     ]
    }
   ],
   "source": [
    "# 조건문을 한 개만 씀\n",
    "list_2 = [\"A\",\"B\",\"C\"]\n",
    "\n",
    "\n",
    "# \"A\" 가 list_2에 있으면 조건문 실행\n",
    "if \"A\" in list_2:\n",
    "    print(\"list_2안에 A 가 있으니까 실행\")\n",
    "# \"D\" 가 list_2에 있지 않으면 조건문 실행\n",
    "elif \"D\" not in list_2:\n",
    "    print(\"list_2는 A B C 밖에 없죠\")\n",
    "\n",
    "\n",
    "\n",
    "\n",
    "\n",
    "\n",
    "\n",
    "\n",
    "\n",
    "\n",
    "\n",
    "# 조건문을 무조건 if 다음에 elif를 사용하는 경우가 있는데, 아래와 같은 경우는 if를 다시 사용해서 새로운 조건문을 만들어야 합니다.\n",
    "# \"D\" 가 list_2에 있지 않으면 조건문 실행\n",
    "if \"D\" not in list_2:\n",
    "    print(\"list_2는 A B C 밖에 없죠\")"
   ]
  },
  {
   "cell_type": "code",
   "execution_count": null,
   "metadata": {},
   "outputs": [],
   "source": [
    "# 조건문이 실행되게 만들어보기\n",
    "list_3 =\n",
    "if len(list_3) < 10:\n",
    "    print(\"list_3 : \", list_3)"
   ]
  },
  {
   "cell_type": "code",
   "execution_count": 15,
   "metadata": {},
   "outputs": [
    {
     "name": "stdout",
     "output_type": "stream",
     "text": [
      "hi\n"
     ]
    }
   ],
   "source": [
    "# a의 type이 set이면 조건문 실행\n",
    "a = \n",
    "if  == :\n",
    "    print('type of a : set')"
   ]
  },
  {
   "cell_type": "code",
   "execution_count": null,
   "metadata": {},
   "outputs": [],
   "source": [
    "# elif 조건에서 실행되도록 조건문 만들어보기\n",
    "b = None\n",
    "\n",
    "if b is not None:\n",
    "    print(\"실행 x\")\n",
    "elif"
   ]
  }
 ],
 "metadata": {
  "kernelspec": {
   "display_name": "Python 3",
   "language": "python",
   "name": "python3"
  },
  "language_info": {
   "codemirror_mode": {
    "name": "ipython",
    "version": 3
   },
   "file_extension": ".py",
   "mimetype": "text/x-python",
   "name": "python",
   "nbconvert_exporter": "python",
   "pygments_lexer": "ipython3",
   "version": "3.12.4"
  }
 },
 "nbformat": 4,
 "nbformat_minor": 2
}
