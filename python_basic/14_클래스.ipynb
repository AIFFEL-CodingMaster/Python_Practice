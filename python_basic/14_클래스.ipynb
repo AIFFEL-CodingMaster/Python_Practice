{
 "cells": [
  {
   "cell_type": "markdown",
   "metadata": {},
   "source": [
    "# class\n",
    "\n",
    "- OOP의 꽃 class\n",
    "- class는 내가 구현하고 싶은 어떤 것(쉽게 생각해보면 명사로 표현되는 것)을 지금까지 다뤘던 문법을 이용해서 구현하는 것이라고 생각하면 됩니다\n",
    "- 변수와 함수를 활용해서 한 번 만들어보죠\n",
    "- class안에 함수는 **\"메소드\"** 라고도 부릅니다\n",
    "- class를 인스턴스화 할때 아래처럼 했었죠?!\n",
    "\n",
    "```python\n",
    "# 클래스(객체)를 변수에 담음\n",
    "변수 = 클래스()\n",
    "```\n",
    "\n",
    "- 인스턴스는 클래스가 가진 메소드를 전부 사용가능\n",
    "\n",
    "```python\n",
    "# 인스턴스.메소드()\n",
    "변수.메소드()\n",
    "```\n",
    "\n",
    "- 클래스는 변수도 가질 수 있습니다\n",
    "- 변수사용은 이렇게\n",
    "\n",
    "```python\n",
    "# 메소드와는 다르게 ()가 없습니다\n",
    "변수.클래스가가진변수\n",
    "```\n",
    "\n",
    "- 구현은 아래 처럼\n",
    "\n",
    "```python\n",
    "# object는 써도 되고 안써도 되고\n",
    "class 클래스(object):\n",
    "    def 메소드(self):\n",
    "        pass\n",
    "# 메소드에 self는 거의 있어야 함, 물론 없을 수도 있긴 있습니다.\n",
    "# self는 인스턴스 자기자신이라고 생각하세요. i_am_instance = 클래스()\n",
    "# 클래스.메소드()를 실행할 때 python이 i_am_instance를 self의 argument로 넣어준다고 생각하면 됩니다.\n",
    "class 클래스:\n",
    "    def 메소드(self):\n",
    "        pass\n",
    "```\n",
    "\n",
    "- 클래스는 명사라고 했죠?! -> 클래스의 메소드는 그 명사가 취할 수 있는 동사, 형용사 느낌으로 생각하면 좀 쉽습니다\n",
    "\n",
    "```python\n",
    "# example\n",
    "class DataFrame:\n",
    "    def head(self):\n",
    "        위에서네줄 = 어떤코드\n",
    "        print(위에서네줄)\n",
    "```\n",
    "\n",
    "- DataFrame : 데이터프레임(명사) , DataFrame.head() : head를 보여주다(동사)\n",
    "- **클래스와 관련해서 더 많은 내용이 있지만 차차 해나가시죠**\n"
   ]
  },
  {
   "cell_type": "markdown",
   "metadata": {},
   "source": [
    "## 클래스-2\n",
    "\n",
    "### 구성\n",
    "\n",
    "- 클래스 변수\n",
    "- 인스턴스 변수\n",
    "- [클래스변수, 인스턴스변수] -> 클래스 or 인스턴스가 가지는 속성\n",
    "- 메소드 -> 클래스의 기능 -> 어떤 액션\n",
    "\n",
    "### 네이밍 컨벤션\n",
    "\n",
    "- 보통 클래스는 PascalCase로 작성합니다. 시작 대문자, 띄어쓰기 대신 대문자 연결\n",
    "  ex) DataFrame, ListView, UserModel ...\n",
    "- 클래스의 attribute, method는 모두 snake_case로 작성\n",
    "  ex) user_name, http_methods\n"
   ]
  },
  {
   "cell_type": "code",
   "execution_count": 2,
   "metadata": {},
   "outputs": [],
   "source": [
    "# 예시를 통해 알아보겠습니다. 완벽한 클래스 설계는 아니고 설명용으로 만들어진 코드입니다.\n",
    "# 스마트폰이라는 임의의 클래스를 만들어보겠습니다\n",
    "# 클래스의 작동원리를 코드로 이해해보기 위해서 입니다\n",
    "# 1\n",
    "# 클래스 이름\n",
    "class SmartPhone:\n",
    "    # 클래스 변수 영역\n",
    "    # 클래스가 기본적으로 가지는 속성 \n",
    "    # 클래스 변수는 SmartPhone자체의 속성 -> 인스턴스를 만들지 않아도 가지는 속성\n",
    "    # 예를들면 갤럭시나 아이폰이나 모두 가질 수 있는 속성\n",
    "    where = \"main\"\n",
    "    power = 'off'\n",
    "    app_list = [\"시계\", \"달력\", \"카메라\", \"사진첩\"]\n",
    "    internet = \"off\"\n",
    "    \n",
    "    # 생성자 -> 클래스를 변수에 할당하여 인스턴스화 할 때 생성되는 변수를 받는 것\n",
    "    # 인스턴스 변수 생성 - > 인스턴스가 되기 전까지는 이 변수는 \"미지수\"\n",
    "    def __init__(self, company, model, color, waterproof):\n",
    "        self.company = company,\n",
    "        self.model = model,\n",
    "        self.color = color,\n",
    "        self.waterpoof = True\n",
    "        # 회사가 Apple일 경우 앱스토어 추가, 아닐 경우 구글스토어 추가\n",
    "        if company == \"Apple\":\n",
    "            self.app_list.append(\"앱스토어\")\n",
    "        else:\n",
    "            self.app_list.append(\"구글스토어\")\n",
    "    \n",
    "    # 스마트폰의 전원을 키거나 끄거나하는 액션\n",
    "    def power_on_or_off(self):\n",
    "        # 실행 시, 전원이 꺼져있으면 켜고, 켜져있으면 끄는 기능 \n",
    "        if self.power =='off':\n",
    "            self.power = 'on'\n",
    "            print('전원이 켜졌습니다')\n",
    "        elif self.power =='on':\n",
    "            self.power = 'off'\n",
    "            print('전원이 꺼졌습니다.')\n",
    "    \n",
    "    # 나의 앱 리스트 보여주기\n",
    "    def show_my_apps(self):\n",
    "        print(f\"나의 Apps : {self.app_list}\")\n",
    "        return self.app_list\n",
    "    \n",
    "    def connect_internet(self):\n",
    "        self.internet == \"on\"\n",
    "    \n",
    "    def app_download(self, app_name):\n",
    "        # open 앱스토어 or 구글스토어\n",
    "        if self.company == \"Apple\":\n",
    "            self.where = \"앱스토어\"\n",
    "        else:\n",
    "            self.where = \"구글스토어\"\n",
    "        \n",
    "        if self.internet =='on' and self.powewr =='on':\n",
    "        # App을 다운로드하고 app_list에 저장\n",
    "            print(f'{app_name} 을 다운로드 합니다.')\n",
    "            self.app_list.append(app_name)\n",
    "            # App 목록을 반환해보겠습니다.\n",
    "            return self.app_list\n",
    "        \n",
    "        elif self.power =='off':\n",
    "        # 전원이 꺼져있는데 실행을 시도하면 RuntimeError를 내도록해보겠습니다.\n",
    "            raise RuntimeError('전원을 확인하세요')\n",
    "        \n",
    "        # 인터넷 연결이 없는데 시도하면 연결 후 다운로드 시도\n",
    "        elif self.internet =='off':\n",
    "            while True:\n",
    "                question = input('인터넷 연결이 없습니다. 연결하시겠습니까? yes or no')\n",
    "                if question =='yes':\n",
    "                    self.connect_internet()\n",
    "                    print(f'{app_name}을 다운로드 합니다.')\n",
    "                    self.app_list.append(app_name)\n",
    "                    return app_name\n",
    "                elif question =='no':\n",
    "                    print('다운로드 실패')\n",
    "                    break\n",
    "    def back_to_main(self):\n",
    "        self.where = \"main\""
   ]
  },
  {
   "cell_type": "code",
   "execution_count": 3,
   "metadata": {},
   "outputs": [],
   "source": [
    "iphone = SmartPhone(\"Apple\", \"Iphone8\", \"black\", True)"
   ]
  },
  {
   "cell_type": "code",
   "execution_count": 4,
   "metadata": {},
   "outputs": [
    {
     "name": "stdout",
     "output_type": "stream",
     "text": [
      "전원이 켜졌습니다\n"
     ]
    }
   ],
   "source": [
    "iphone.power_on_or_off()"
   ]
  },
  {
   "cell_type": "code",
   "execution_count": 5,
   "metadata": {},
   "outputs": [
    {
     "name": "stdout",
     "output_type": "stream",
     "text": [
      "나의 Apps : ['시계', '달력', '카메라', '사진첩', '앱스토어']\n"
     ]
    }
   ],
   "source": [
    "my_apps = iphone.show_my_apps()"
   ]
  },
  {
   "cell_type": "code",
   "execution_count": 6,
   "metadata": {},
   "outputs": [
    {
     "name": "stdout",
     "output_type": "stream",
     "text": [
      "카카오톡 을 다운로드 합니다.\n"
     ]
    }
   ],
   "source": [
    "new_app = iphone.app_download(\"카카오톡\")"
   ]
  },
  {
   "cell_type": "code",
   "execution_count": 21,
   "metadata": {},
   "outputs": [
    {
     "name": "stdout",
     "output_type": "stream",
     "text": [
      "나의 Apps : ['시계', '달력', '카메라', '사진첩', '앱스토어', '카카오톡']\n"
     ]
    },
    {
     "data": {
      "text/plain": [
       "['시계', '달력', '카메라', '사진첩', '앱스토어', '카카오톡']"
      ]
     },
     "execution_count": 21,
     "metadata": {},
     "output_type": "execute_result"
    }
   ],
   "source": [
    "iphone.show_my_apps()"
   ]
  },
  {
   "cell_type": "markdown",
   "metadata": {},
   "source": [
    "## 클래스 작성 요령\n",
    "\n",
    "- 구현하고자 하는 것을 먼저 생각한 뒤\n",
    "- 그것을 먼저 최대한 작게 쪼개 봅니다\n",
    "- ex) Car클래스를 쪼개어 봅니다 -> 자동차 움직임\n",
    "\n",
    "  - 바퀴 -> 바퀴 개수, 구르기, 멈추기\n",
    "  - 엔진 -> 켜짐여부, 시동걸기\n",
    "\n",
    "- 예시를 보면서 클래스를 사용하면 유지보수가 왜 좋은지 재사용성이 왜 좋아지는지 알아봅니다.\n"
   ]
  },
  {
   "cell_type": "code",
   "execution_count": 7,
   "metadata": {},
   "outputs": [],
   "source": [
    "class Car:\n",
    "    def __init__(self, wheel, engine):\n",
    "        self.wheel = wheel\n",
    "        self.engine = engine\n",
    "\n",
    "    def move(self):\n",
    "        self.engine.start()\n",
    "        self.wheel.rotate()\n",
    "        print(\"차량이 움직입니다\")\n",
    "\n",
    "class Wheel:\n",
    "    wheel_num = 4\n",
    "\n",
    "    def __init__(self, company, size):\n",
    "        self.company = company\n",
    "        self.size = size\n",
    "\n",
    "    def rotate(self):\n",
    "        print(\"바퀴가 구르기 시작합니다\")\n",
    "    \n",
    "    def stop(self):\n",
    "        print(\"바퀴가 멈춥니다\")\n",
    "\n",
    "\n",
    "class Engine:\n",
    "    def __init__(self):\n",
    "        self.power = False\n",
    "\n",
    "    def start(self):\n",
    "        while True:\n",
    "            question = input(\"엔진을 켜시겠습니까? yes or no\")\n",
    "            if question == \"yes\":\n",
    "                self.power = True\n",
    "                print(\"엔진이 켜졌습니다\")\n",
    "                break\n",
    "    \n",
    "    def stop(self):\n",
    "        self.power = False\n",
    "        print(\"엔진이 꺼졌습니다\")"
   ]
  },
  {
   "cell_type": "code",
   "execution_count": 8,
   "metadata": {},
   "outputs": [
    {
     "name": "stdout",
     "output_type": "stream",
     "text": [
      "엔진이 켜졌습니다\n",
      "바퀴가 구르기 시작합니다\n",
      "차량이 움직입니다\n"
     ]
    }
   ],
   "source": [
    "model3_wheel = Wheel(\"금호\", 16)\n",
    "model3_engine = Engine()\n",
    "\n",
    "model3 = Car(wheel=model3_wheel,engine=model3_engine)\n",
    "\n",
    "model3.move()"
   ]
  },
  {
   "cell_type": "code",
   "execution_count": 15,
   "metadata": {},
   "outputs": [],
   "source": [
    "# 만약 엔진이 켜질 때 엔진을 키겠냐고 물어봐야한다는 조건이 추가되었다면?\n",
    "# 만약 자동차가 아닌 오토바이 클래스가 필요해졌다면??"
   ]
  },
  {
   "cell_type": "code",
   "execution_count": null,
   "metadata": {},
   "outputs": [],
   "source": [
    "class BikeWheel(Wheel):\n",
    "    wheel_num = 2\n",
    "\n",
    "class Bike:\n",
    "    def __init__(self, wheel, engine):\n",
    "        self.wheel = wheel\n",
    "        self.engine = engine\n",
    "\n",
    "    def move(self):\n",
    "        self.engine.start()\n",
    "        self.wheel.rotate()\n",
    "        print(\"오토바이가 움직입니다\")"
   ]
  },
  {
   "cell_type": "code",
   "execution_count": 10,
   "metadata": {},
   "outputs": [
    {
     "data": {
      "text/plain": [
       "[__main__.Wheel, object]"
      ]
     },
     "execution_count": 10,
     "metadata": {},
     "output_type": "execute_result"
    }
   ],
   "source": [
    "Wheel.mro()"
   ]
  },
  {
   "cell_type": "code",
   "execution_count": 11,
   "metadata": {},
   "outputs": [],
   "source": [
    "class Temp:\n",
    "    def __init__(self):\n",
    "        self.__temp = 0\n",
    "\n",
    "    def get_temp(self):\n",
    "        print(self.__temp)\n",
    "        return self.__temp"
   ]
  }
 ],
 "metadata": {
  "kernelspec": {
   "display_name": "Python 3",
   "language": "python",
   "name": "python3"
  },
  "language_info": {
   "codemirror_mode": {
    "name": "ipython",
    "version": 3
   },
   "file_extension": ".py",
   "mimetype": "text/x-python",
   "name": "python",
   "nbconvert_exporter": "python",
   "pygments_lexer": "ipython3",
   "version": "3.12.4"
  }
 },
 "nbformat": 4,
 "nbformat_minor": 4
}
